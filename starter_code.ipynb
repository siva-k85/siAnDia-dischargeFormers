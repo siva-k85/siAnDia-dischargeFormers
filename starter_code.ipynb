{
 "cells": [
  {
   "cell_type": "markdown",
   "metadata": {
    "id": "-T-XcTCQWZGX"
   },
   "source": [
    "# Setup"
   ]
  },
  {
   "cell_type": "code",
   "execution_count": 1,
   "metadata": {
    "colab": {
     "base_uri": "https://localhost:8080/"
    },
    "executionInfo": {
     "elapsed": 7434,
     "status": "ok",
     "timestamp": 1708233075024,
     "user": {
      "displayName": "Winn Leelamanthep",
      "userId": "08251602080468069325"
     },
     "user_tz": 300
    },
    "id": "P0pfkKTsVhaK",
    "outputId": "76b5ac77-f86d-484e-ef52-bfa9ec9f662f"
   },
   "outputs": [
    {
     "name": "stdout",
     "output_type": "stream",
     "text": [
      "Collecting openai==1.12.0\n",
      "  Downloading openai-1.12.0-py3-none-any.whl.metadata (18 kB)\n",
      "Collecting anyio<5,>=3.5.0 (from openai==1.12.0)\n",
      "  Using cached anyio-4.9.0-py3-none-any.whl.metadata (4.7 kB)\n",
      "Collecting distro<2,>=1.7.0 (from openai==1.12.0)\n",
      "  Downloading distro-1.9.0-py3-none-any.whl.metadata (6.8 kB)\n",
      "Collecting httpx<1,>=0.23.0 (from openai==1.12.0)\n",
      "  Downloading httpx-0.28.1-py3-none-any.whl.metadata (7.1 kB)\n",
      "Collecting pydantic<3,>=1.9.0 (from openai==1.12.0)\n",
      "  Downloading pydantic-2.11.3-py3-none-any.whl.metadata (65 kB)\n",
      "Collecting sniffio (from openai==1.12.0)\n",
      "  Downloading sniffio-1.3.1-py3-none-any.whl.metadata (3.9 kB)\n",
      "Collecting tqdm>4 (from openai==1.12.0)\n",
      "  Downloading tqdm-4.67.1-py3-none-any.whl.metadata (57 kB)\n",
      "Collecting typing-extensions<5,>=4.7 (from openai==1.12.0)\n",
      "  Downloading typing_extensions-4.13.2-py3-none-any.whl.metadata (3.0 kB)\n",
      "Collecting idna>=2.8 (from anyio<5,>=3.5.0->openai==1.12.0)\n",
      "  Using cached idna-3.10-py3-none-any.whl.metadata (10 kB)\n",
      "Collecting certifi (from httpx<1,>=0.23.0->openai==1.12.0)\n",
      "  Using cached certifi-2025.1.31-py3-none-any.whl.metadata (2.5 kB)\n",
      "Collecting httpcore==1.* (from httpx<1,>=0.23.0->openai==1.12.0)\n",
      "  Downloading httpcore-1.0.8-py3-none-any.whl.metadata (21 kB)\n",
      "Collecting h11<0.15,>=0.13 (from httpcore==1.*->httpx<1,>=0.23.0->openai==1.12.0)\n",
      "  Downloading h11-0.14.0-py3-none-any.whl.metadata (8.2 kB)\n",
      "Collecting annotated-types>=0.6.0 (from pydantic<3,>=1.9.0->openai==1.12.0)\n",
      "  Downloading annotated_types-0.7.0-py3-none-any.whl.metadata (15 kB)\n",
      "Collecting pydantic-core==2.33.1 (from pydantic<3,>=1.9.0->openai==1.12.0)\n",
      "  Downloading pydantic_core-2.33.1-cp313-cp313-macosx_11_0_arm64.whl.metadata (6.8 kB)\n",
      "Collecting typing-inspection>=0.4.0 (from pydantic<3,>=1.9.0->openai==1.12.0)\n",
      "  Downloading typing_inspection-0.4.0-py3-none-any.whl.metadata (2.6 kB)\n",
      "Downloading openai-1.12.0-py3-none-any.whl (226 kB)\n",
      "Using cached anyio-4.9.0-py3-none-any.whl (100 kB)\n",
      "Downloading distro-1.9.0-py3-none-any.whl (20 kB)\n",
      "Downloading httpx-0.28.1-py3-none-any.whl (73 kB)\n",
      "Downloading httpcore-1.0.8-py3-none-any.whl (78 kB)\n",
      "Downloading pydantic-2.11.3-py3-none-any.whl (443 kB)\n",
      "Downloading pydantic_core-2.33.1-cp313-cp313-macosx_11_0_arm64.whl (1.9 MB)\n",
      "\u001b[2K   \u001b[90m━━━━━━━━━━━━━━━━━━━━━━━━━━━━━━━━━━━━━━━━\u001b[0m \u001b[32m1.9/1.9 MB\u001b[0m \u001b[31m27.5 MB/s\u001b[0m eta \u001b[36m0:00:00\u001b[0m\n",
      "\u001b[?25hDownloading sniffio-1.3.1-py3-none-any.whl (10 kB)\n",
      "Downloading tqdm-4.67.1-py3-none-any.whl (78 kB)\n",
      "Downloading typing_extensions-4.13.2-py3-none-any.whl (45 kB)\n",
      "Downloading annotated_types-0.7.0-py3-none-any.whl (13 kB)\n",
      "Downloading idna-3.10-py3-none-any.whl (70 kB)\n",
      "Downloading typing_inspection-0.4.0-py3-none-any.whl (14 kB)\n",
      "Downloading certifi-2025.1.31-py3-none-any.whl (166 kB)\n",
      "Downloading h11-0.14.0-py3-none-any.whl (58 kB)\n",
      "Installing collected packages: typing-extensions, tqdm, sniffio, idna, h11, distro, certifi, annotated-types, typing-inspection, pydantic-core, httpcore, anyio, pydantic, httpx, openai\n",
      "Successfully installed annotated-types-0.7.0 anyio-4.9.0 certifi-2025.1.31 distro-1.9.0 h11-0.14.0 httpcore-1.0.8 httpx-0.28.1 idna-3.10 openai-1.12.0 pydantic-2.11.3 pydantic-core-2.33.1 sniffio-1.3.1 tqdm-4.67.1 typing-extensions-4.13.2 typing-inspection-0.4.0\n",
      "\n",
      "\u001b[1m[\u001b[0m\u001b[34;49mnotice\u001b[0m\u001b[1;39;49m]\u001b[0m\u001b[39;49m A new release of pip is available: \u001b[0m\u001b[31;49m25.0\u001b[0m\u001b[39;49m -> \u001b[0m\u001b[32;49m25.0.1\u001b[0m\n",
      "\u001b[1m[\u001b[0m\u001b[34;49mnotice\u001b[0m\u001b[1;39;49m]\u001b[0m\u001b[39;49m To update, run: \u001b[0m\u001b[32;49mpip install --upgrade pip\u001b[0m\n",
      "Note: you may need to restart the kernel to use updated packages.\n"
     ]
    }
   ],
   "source": [
    "pip install openai==1.12.0\n"
   ]
  },
  {
   "cell_type": "code",
   "execution_count": 2,
   "metadata": {
    "colab": {
     "base_uri": "https://localhost:8080/"
    },
    "executionInfo": {
     "elapsed": 832,
     "status": "ok",
     "timestamp": 1708233075851,
     "user": {
      "displayName": "Winn Leelamanthep",
      "userId": "08251602080468069325"
     },
     "user_tz": 300
    },
    "id": "RI2VSH6HaKF-",
    "outputId": "006cd143-82df-4aef-dfca-5af220f4f9e0"
   },
   "outputs": [
    {
     "name": "stdout",
     "output_type": "stream",
     "text": [
      "1.12.0\n"
     ]
    }
   ],
   "source": [
    "import openai\n",
    "from openai import OpenAI\n",
    "\n",
    "print(openai.__version__) # version - 1.12.0\n"
   ]
  },
  {
   "cell_type": "code",
   "execution_count": null,
   "metadata": {
    "colab": {
     "base_uri": "https://localhost:8080/"
    },
    "executionInfo": {
     "elapsed": 47018,
     "status": "ok",
     "timestamp": 1708233126365,
     "user": {
      "displayName": "Winn Leelamanthep",
      "userId": "08251602080468069325"
     },
     "user_tz": 300
    },
    "id": "ZNNlB2bvWbzT",
    "outputId": "1dcf0aa3-25df-4a5c-fb53-30e8d9a1a3d2"
   },
   "outputs": [
    {
     "name": "stdout",
     "output_type": "stream",
     "text": [
      "Mounted at /content/drive\n"
     ]
    }
   ],
   "source": [
    "# from google.colab import drive\n",
    "# drive.mount('/content/drive', force_remount=True)\n"
   ]
  },
  {
   "cell_type": "markdown",
   "metadata": {
    "id": "wQpX233aoinx"
   },
   "source": [
    "### storing real credentials.json inside a google drive folder is not secure and not best practice\n",
    "### please download the folder, create a github repo, then create a .gitignore"
   ]
  },
  {
   "cell_type": "code",
   "execution_count": 3,
   "metadata": {
    "colab": {
     "base_uri": "https://localhost:8080/"
    },
    "executionInfo": {
     "elapsed": 129,
     "status": "ok",
     "timestamp": 1708233200672,
     "user": {
      "displayName": "Winn Leelamanthep",
      "userId": "08251602080468069325"
     },
     "user_tz": 300
    },
    "id": "5Nhuz633ogt5",
    "outputId": "ac4e175f-4932-4a77-b1e5-f26a84863beb"
   },
   "outputs": [
    {
     "name": "stdout",
     "output_type": "stream",
     "text": [
      "LLM prototype checklist.docx  data_3.json\n",
      "credentials.json              data_4.json\n",
      "data.json                     starter_code.ipynb\n",
      "data_2.json                   \u001b[34mvenv\u001b[m\u001b[m/\n"
     ]
    }
   ],
   "source": [
    "ls"
   ]
  },
  {
   "cell_type": "markdown",
   "metadata": {
    "id": "YMgRdrpVXAgx"
   },
   "source": [
    "# Load data and credentials"
   ]
  },
  {
   "cell_type": "code",
   "execution_count": 5,
   "metadata": {
    "id": "WzK0JyP6XbZK"
   },
   "outputs": [],
   "source": [
    "import json\n",
    "\n",
    "credentials_path = 'credentials.json'\n",
    "\n",
    "with open(credentials_path, 'r') as file:\n",
    "    credentials = json.load(file)\n",
    "\n",
    "openai_api_key = credentials['openai_api_key']\n",
    "\n",
    "# Use the API key as needed, for example, to configure OpenAI's API client\n",
    "openai.api_key = openai_api_key\n"
   ]
  },
  {
   "cell_type": "code",
   "execution_count": 6,
   "metadata": {
    "colab": {
     "base_uri": "https://localhost:8080/"
    },
    "id": "he226yj3VkF5",
    "outputId": "3c0bc418-dc1b-4430-fe5f-b2793e01624f"
   },
   "outputs": [
    {
     "name": "stdout",
     "output_type": "stream",
     "text": [
      "{'name': 'John Doe', 'age': 70, 'gender': 'Male', 'admission_date': '2024-02-10', 'discharge_date': '2024-02-14'}\n"
     ]
    }
   ],
   "source": [
    "import json\n",
    "\n",
    "# Update the path if your file is in a different location\n",
    "file_path = 'data.json'\n",
    "\n",
    "with open(file_path, 'r') as file:\n",
    "    patient_data = json.load(file)\n",
    "\n",
    "# To verify, print a part of the data\n",
    "print(patient_data['patient_demographics'])\n"
   ]
  },
  {
   "cell_type": "markdown",
   "metadata": {
    "id": "Yicw--qjYd-m"
   },
   "source": [
    "# Explore data"
   ]
  },
  {
   "cell_type": "code",
   "execution_count": 7,
   "metadata": {
    "colab": {
     "base_uri": "https://localhost:8080/"
    },
    "id": "yeAfWIk8XmLq",
    "outputId": "9c97bc57-7fef-4813-95b5-491e37ee55e0"
   },
   "outputs": [
    {
     "name": "stdout",
     "output_type": "stream",
     "text": [
      "Data type: <class 'dict'>\n"
     ]
    }
   ],
   "source": [
    "print(f'Data type: {type(patient_data)}')"
   ]
  },
  {
   "cell_type": "code",
   "execution_count": 9,
   "metadata": {
    "colab": {
     "base_uri": "https://localhost:8080/"
    },
    "id": "uU8OUSzUYlEA",
    "outputId": "dff41a90-4e39-4f0f-b9d9-7644581d5449"
   },
   "outputs": [
    {
     "name": "stdout",
     "output_type": "stream",
     "text": [
      "Keys in data: dict_keys(['patient_id', 'patient_demographics', 'diagnoses', 'drg', 'encounters', 'flowsheets', 'imaging', 'labs', 'med_orders', 'notes'])\n"
     ]
    }
   ],
   "source": [
    "print(f'Keys in data: {(patient_data.keys())}')"
   ]
  },
  {
   "cell_type": "code",
   "execution_count": 10,
   "metadata": {
    "colab": {
     "base_uri": "https://localhost:8080/"
    },
    "id": "WxxqbxbFYrFV",
    "outputId": "5f391dd1-5fa9-43cd-f307-38a403778406"
   },
   "outputs": [
    {
     "data": {
      "text/plain": [
       "[{'date': '2024-02-10',\n",
       "  'type': 'Admission',\n",
       "  'reason': 'Cough, shortness of breath, hemoptysis, fever'},\n",
       " {'date': '2024-02-14', 'type': 'Discharge'}]"
      ]
     },
     "execution_count": 10,
     "metadata": {},
     "output_type": "execute_result"
    }
   ],
   "source": [
    "# Look at encounters data, there are multiple\n",
    "patient_data['encounters']"
   ]
  },
  {
   "cell_type": "code",
   "execution_count": null,
   "metadata": {
    "colab": {
     "base_uri": "https://localhost:8080/"
    },
    "id": "hJ4Kc6PlZFv1",
    "outputId": "392fe253-ba48-4d41-fc49-9c4119f91f10"
   },
   "outputs": [
    {
     "data": {
      "text/plain": [
       "[{'date': '2024-02-10',\n",
       "  'time': '08:00',\n",
       "  'temperature': '38.5°C',\n",
       "  'heart_rate': '90 bpm',\n",
       "  'blood_pressure': '130/85 mmHg',\n",
       "  'respiratory_rate': '20 breaths/min',\n",
       "  'oxygen_saturation': '92%'},\n",
       " {'date': '2024-02-11',\n",
       "  'time': '08:00',\n",
       "  'temperature': '37.8°C',\n",
       "  'heart_rate': '85 bpm',\n",
       "  'blood_pressure': '125/80 mmHg',\n",
       "  'respiratory_rate': '18 breaths/min',\n",
       "  'oxygen_saturation': '94%'},\n",
       " {'date': '2024-02-12',\n",
       "  'time': '08:00',\n",
       "  'temperature': '37°C',\n",
       "  'heart_rate': '80 bpm',\n",
       "  'blood_pressure': '120/75 mmHg',\n",
       "  'respiratory_rate': '16 breaths/min',\n",
       "  'oxygen_saturation': '96%'},\n",
       " {'date': '2024-02-13',\n",
       "  'time': '08:00',\n",
       "  'temperature': '36.5°C',\n",
       "  'heart_rate': '78 bpm',\n",
       "  'blood_pressure': '118/74 mmHg',\n",
       "  'respiratory_rate': '14 breaths/min',\n",
       "  'oxygen_saturation': '98%'}]"
      ]
     },
     "execution_count": 13,
     "metadata": {},
     "output_type": "execute_result"
    }
   ],
   "source": [
    "# Look at flowsheets data, there are multiple\n",
    "patient_data['flowsheets']"
   ]
  },
  {
   "cell_type": "code",
   "execution_count": 11,
   "metadata": {
    "colab": {
     "base_uri": "https://localhost:8080/"
    },
    "id": "PpHpIgzpZSDK",
    "outputId": "53335bb8-aadd-41c1-fe98-e29a7c0cdea1"
   },
   "outputs": [
    {
     "data": {
      "text/plain": [
       "[{'date': '2024-02-10',\n",
       "  'author': 'Dr. Smith',\n",
       "  'note_type': 'Admission Note',\n",
       "  'content': 'Patient admitted with symptoms indicative of pneumonia. Initiated empirical antibiotic therapy.'},\n",
       " {'date': '2024-02-11',\n",
       "  'author': 'Dr. Smith',\n",
       "  'note_type': 'Ward Round Note',\n",
       "  'content': 'Patient shows signs of improvement. CRP levels declining. Continue with current antibiotic regimen. Monitor for any adverse reactions.'},\n",
       " {'date': '2024-02-12',\n",
       "  'author': 'Dr. Smith',\n",
       "  'note_type': 'Ward Round Note',\n",
       "  'content': \"Patient's temperature normalized. Oxygen saturation levels stable. Plan to switch to oral antibiotics tomorrow.\"},\n",
       " {'date': '2024-02-13',\n",
       "  'author': 'Dr. Smith',\n",
       "  'note_type': 'Ward Round Note',\n",
       "  'content': 'Patient continues to improve. CRP and WBC trending down. Ready for discharge planning.'},\n",
       " {'date': '2024-02-14',\n",
       "  'author': 'Dr. Smith',\n",
       "  'note_type': 'Discharge Summary',\n",
       "  'content': \"Patient's condition improved with treatment. Medically fit for discharge. Home with instructions for oral antibiotics for 5 more days. Follow-up in outpatient clinic in two weeks.\"}]"
      ]
     },
     "execution_count": 11,
     "metadata": {},
     "output_type": "execute_result"
    }
   ],
   "source": [
    "patient_data['notes']"
   ]
  },
  {
   "cell_type": "markdown",
   "metadata": {
    "id": "eOMsxxnLadMZ"
   },
   "source": [
    "# Sample zero-shot solution\n",
    "This is a first attempt where we pass in everything and provide basic prompt engineering. This is a baseline solution. Your solutions should improve from this."
   ]
  },
  {
   "cell_type": "code",
   "execution_count": 18,
   "metadata": {},
   "outputs": [
    {
     "name": "stdout",
     "output_type": "stream",
     "text": [
      "Requirement already satisfied: openai in ./venv/lib/python3.13/site-packages (1.12.0)\n",
      "Collecting openai\n",
      "Collecting openai\n",
      "  Downloading openai-1.73.0-py3-none-any.whl.metadata (25 kB)\n",
      "Requirement already satisfied: anyio<5,>=3.5.0 in ./venv/lib/python3.13/site-packages (from openai) (4.9.0)\n",
      "Requirement already satisfied: distro<2,>=1.7.0 in ./venv/lib/python3.13/site-packages (from openai) (1.9.0)\n",
      "Requirement already satisfied: httpx<1,>=0.23.0 in ./venv/lib/python3.13/site-packages (from openai) (0.28.1)\n",
      "  Downloading openai-1.73.0-py3-none-any.whl.metadata (25 kB)\n",
      "Requirement already satisfied: anyio<5,>=3.5.0 in ./venv/lib/python3.13/site-packages (from openai) (4.9.0)\n",
      "Requirement already satisfied: distro<2,>=1.7.0 in ./venv/lib/python3.13/site-packages (from openai) (1.9.0)\n",
      "Requirement already satisfied: httpx<1,>=0.23.0 in ./venv/lib/python3.13/site-packages (from openai) (0.28.1)\n",
      "Collecting jiter<1,>=0.4.0 (from openai)\n",
      "  Downloading jiter-0.9.0-cp313-cp313-macosx_11_0_arm64.whl.metadata (5.2 kB)\n",
      "Requirement already satisfied: pydantic<3,>=1.9.0 in ./venv/lib/python3.13/site-packages (from openai) (2.11.3)\n",
      "Requirement already satisfied: sniffio in ./venv/lib/python3.13/site-packages (from openai) (1.3.1)\n",
      "Requirement already satisfied: tqdm>4 in ./venv/lib/python3.13/site-packages (from openai) (4.67.1)\n",
      "Requirement already satisfied: typing-extensions<5,>=4.11 in ./venv/lib/python3.13/site-packages (from openai) (4.13.2)\n",
      "Requirement already satisfied: idna>=2.8 in ./venv/lib/python3.13/site-packages (from anyio<5,>=3.5.0->openai) (3.10)\n",
      "Requirement already satisfied: certifi in ./venv/lib/python3.13/site-packages (from httpx<1,>=0.23.0->openai) (2025.1.31)\n",
      "Requirement already satisfied: httpcore==1.* in ./venv/lib/python3.13/site-packages (from httpx<1,>=0.23.0->openai) (1.0.8)\n",
      "Requirement already satisfied: h11<0.15,>=0.13 in ./venv/lib/python3.13/site-packages (from httpcore==1.*->httpx<1,>=0.23.0->openai) (0.14.0)\n",
      "Requirement already satisfied: annotated-types>=0.6.0 in ./venv/lib/python3.13/site-packages (from pydantic<3,>=1.9.0->openai) (0.7.0)\n",
      "Requirement already satisfied: pydantic-core==2.33.1 in ./venv/lib/python3.13/site-packages (from pydantic<3,>=1.9.0->openai) (2.33.1)\n",
      "Requirement already satisfied: typing-inspection>=0.4.0 in ./venv/lib/python3.13/site-packages (from pydantic<3,>=1.9.0->openai) (0.4.0)\n",
      "Collecting jiter<1,>=0.4.0 (from openai)\n",
      "  Downloading jiter-0.9.0-cp313-cp313-macosx_11_0_arm64.whl.metadata (5.2 kB)\n",
      "Requirement already satisfied: pydantic<3,>=1.9.0 in ./venv/lib/python3.13/site-packages (from openai) (2.11.3)\n",
      "Requirement already satisfied: sniffio in ./venv/lib/python3.13/site-packages (from openai) (1.3.1)\n",
      "Requirement already satisfied: tqdm>4 in ./venv/lib/python3.13/site-packages (from openai) (4.67.1)\n",
      "Requirement already satisfied: typing-extensions<5,>=4.11 in ./venv/lib/python3.13/site-packages (from openai) (4.13.2)\n",
      "Requirement already satisfied: idna>=2.8 in ./venv/lib/python3.13/site-packages (from anyio<5,>=3.5.0->openai) (3.10)\n",
      "Requirement already satisfied: certifi in ./venv/lib/python3.13/site-packages (from httpx<1,>=0.23.0->openai) (2025.1.31)\n",
      "Requirement already satisfied: httpcore==1.* in ./venv/lib/python3.13/site-packages (from httpx<1,>=0.23.0->openai) (1.0.8)\n",
      "Requirement already satisfied: h11<0.15,>=0.13 in ./venv/lib/python3.13/site-packages (from httpcore==1.*->httpx<1,>=0.23.0->openai) (0.14.0)\n",
      "Requirement already satisfied: annotated-types>=0.6.0 in ./venv/lib/python3.13/site-packages (from pydantic<3,>=1.9.0->openai) (0.7.0)\n",
      "Requirement already satisfied: pydantic-core==2.33.1 in ./venv/lib/python3.13/site-packages (from pydantic<3,>=1.9.0->openai) (2.33.1)\n",
      "Requirement already satisfied: typing-inspection>=0.4.0 in ./venv/lib/python3.13/site-packages (from pydantic<3,>=1.9.0->openai) (0.4.0)\n",
      "Downloading openai-1.73.0-py3-none-any.whl (644 kB)\n",
      "\u001b[?25l   \u001b[90m━━━━━━━━━━━━━━━━━━━━━━━━━━━━━━━━━━━━━━━━\u001b[0m \u001b[32m0.0/644.4 kB\u001b[0m \u001b[31m?\u001b[0m eta \u001b[36m-:--:--\u001b[0mDownloading openai-1.73.0-py3-none-any.whl (644 kB)\n",
      "\u001b[2K   \u001b[90m━━━━━━━━━━━━━━━━━━━━━━━━━━━━━━━━━━━━━━━━\u001b[0m \u001b[32m644.4/644.4 kB\u001b[0m \u001b[31m13.2 MB/s\u001b[0m eta \u001b[36m0:00:00\u001b[0m\n",
      "\u001b[2K   \u001b[90m━━━━━━━━━━━━━━━━━━━━━━━━━━━━━━━━━━━━━━━━\u001b[0m \u001b[32m644.4/644.4 kB\u001b[0m \u001b[31m13.2 MB/s\u001b[0m eta \u001b[36m0:00:00\u001b[0m\n",
      "\u001b[?25hDownloading jiter-0.9.0-cp313-cp313-macosx_11_0_arm64.whl (318 kB)\n",
      "Downloading jiter-0.9.0-cp313-cp313-macosx_11_0_arm64.whl (318 kB)\n",
      "Installing collected packages: jiter, openai\n",
      "  Attempting uninstall: openai\n",
      "    Found existing installation: openai 1.12.0\n",
      "    Uninstalling openai-1.12.0:\n",
      "      Successfully uninstalled openai-1.12.0\n",
      "Installing collected packages: jiter, openai\n",
      "  Attempting uninstall: openai\n",
      "    Found existing installation: openai 1.12.0\n",
      "    Uninstalling openai-1.12.0:\n",
      "      Successfully uninstalled openai-1.12.0\n",
      "Successfully installed jiter-0.9.0 openai-1.73.0\n",
      "\n",
      "\u001b[1m[\u001b[0m\u001b[34;49mnotice\u001b[0m\u001b[1;39;49m]\u001b[0m\u001b[39;49m A new release of pip is available: \u001b[0m\u001b[31;49m25.0\u001b[0m\u001b[39;49m -> \u001b[0m\u001b[32;49m25.0.1\u001b[0m\n",
      "\u001b[1m[\u001b[0m\u001b[34;49mnotice\u001b[0m\u001b[1;39;49m]\u001b[0m\u001b[39;49m To update, run: \u001b[0m\u001b[32;49mpip install --upgrade pip\u001b[0m\n",
      "Successfully installed jiter-0.9.0 openai-1.73.0\n",
      "\n",
      "\u001b[1m[\u001b[0m\u001b[34;49mnotice\u001b[0m\u001b[1;39;49m]\u001b[0m\u001b[39;49m A new release of pip is available: \u001b[0m\u001b[31;49m25.0\u001b[0m\u001b[39;49m -> \u001b[0m\u001b[32;49m25.0.1\u001b[0m\n",
      "\u001b[1m[\u001b[0m\u001b[34;49mnotice\u001b[0m\u001b[1;39;49m]\u001b[0m\u001b[39;49m To update, run: \u001b[0m\u001b[32;49mpip install --upgrade pip\u001b[0m\n"
     ]
    }
   ],
   "source": [
    "!pip install --upgrade openai"
   ]
  },
  {
   "cell_type": "code",
   "execution_count": 19,
   "metadata": {},
   "outputs": [
    {
     "name": "stdout",
     "output_type": "stream",
     "text": [
      "Name: httpx\n",
      "Version: 0.28.1\n",
      "Summary: The next generation HTTP client.\n",
      "Home-page: https://github.com/encode/httpx\n",
      "Author: \n",
      "Author-email: Tom Christie <tom@tomchristie.com>\n",
      "License: BSD-3-Clause\n",
      "Location: /Users/sivak/Development/DSHS-finalGroupProject/DSHS Sp2 Final project materials/venv/lib/python3.13/site-packages\n",
      "Requires: anyio, certifi, httpcore, idna\n",
      "Required-by: openai\n"
     ]
    }
   ],
   "source": [
    "!pip show httpx"
   ]
  },
  {
   "cell_type": "code",
   "execution_count": 20,
   "metadata": {},
   "outputs": [
    {
     "name": "stdout",
     "output_type": "stream",
     "text": [
      "Collecting httpx==0.27.2\n",
      "  Downloading httpx-0.27.2-py3-none-any.whl.metadata (7.1 kB)\n",
      "  Downloading httpx-0.27.2-py3-none-any.whl.metadata (7.1 kB)\n",
      "Requirement already satisfied: anyio in ./venv/lib/python3.13/site-packages (from httpx==0.27.2) (4.9.0)\n",
      "Requirement already satisfied: certifi in ./venv/lib/python3.13/site-packages (from httpx==0.27.2) (2025.1.31)\n",
      "Requirement already satisfied: httpcore==1.* in ./venv/lib/python3.13/site-packages (from httpx==0.27.2) (1.0.8)\n",
      "Requirement already satisfied: idna in ./venv/lib/python3.13/site-packages (from httpx==0.27.2) (3.10)\n",
      "Requirement already satisfied: sniffio in ./venv/lib/python3.13/site-packages (from httpx==0.27.2) (1.3.1)\n",
      "Requirement already satisfied: h11<0.15,>=0.13 in ./venv/lib/python3.13/site-packages (from httpcore==1.*->httpx==0.27.2) (0.14.0)\n",
      "Downloading httpx-0.27.2-py3-none-any.whl (76 kB)\n",
      "Requirement already satisfied: anyio in ./venv/lib/python3.13/site-packages (from httpx==0.27.2) (4.9.0)\n",
      "Requirement already satisfied: certifi in ./venv/lib/python3.13/site-packages (from httpx==0.27.2) (2025.1.31)\n",
      "Requirement already satisfied: httpcore==1.* in ./venv/lib/python3.13/site-packages (from httpx==0.27.2) (1.0.8)\n",
      "Requirement already satisfied: idna in ./venv/lib/python3.13/site-packages (from httpx==0.27.2) (3.10)\n",
      "Requirement already satisfied: sniffio in ./venv/lib/python3.13/site-packages (from httpx==0.27.2) (1.3.1)\n",
      "Requirement already satisfied: h11<0.15,>=0.13 in ./venv/lib/python3.13/site-packages (from httpcore==1.*->httpx==0.27.2) (0.14.0)\n",
      "Downloading httpx-0.27.2-py3-none-any.whl (76 kB)\n",
      "Installing collected packages: httpx\n",
      "  Attempting uninstall: httpx\n",
      "    Found existing installation: httpx 0.28.1\n",
      "Installing collected packages: httpx\n",
      "  Attempting uninstall: httpx\n",
      "    Found existing installation: httpx 0.28.1\n",
      "    Uninstalling httpx-0.28.1:\n",
      "      Successfully uninstalled httpx-0.28.1\n",
      "Successfully installed httpx-0.27.2\n",
      "    Uninstalling httpx-0.28.1:\n",
      "      Successfully uninstalled httpx-0.28.1\n",
      "Successfully installed httpx-0.27.2\n",
      "\n",
      "\u001b[1m[\u001b[0m\u001b[34;49mnotice\u001b[0m\u001b[1;39;49m]\u001b[0m\u001b[39;49m A new release of pip is available: \u001b[0m\u001b[31;49m25.0\u001b[0m\u001b[39;49m -> \u001b[0m\u001b[32;49m25.0.1\u001b[0m\n",
      "\u001b[1m[\u001b[0m\u001b[34;49mnotice\u001b[0m\u001b[1;39;49m]\u001b[0m\u001b[39;49m To update, run: \u001b[0m\u001b[32;49mpip install --upgrade pip\u001b[0m\n",
      "\n",
      "\u001b[1m[\u001b[0m\u001b[34;49mnotice\u001b[0m\u001b[1;39;49m]\u001b[0m\u001b[39;49m A new release of pip is available: \u001b[0m\u001b[31;49m25.0\u001b[0m\u001b[39;49m -> \u001b[0m\u001b[32;49m25.0.1\u001b[0m\n",
      "\u001b[1m[\u001b[0m\u001b[34;49mnotice\u001b[0m\u001b[1;39;49m]\u001b[0m\u001b[39;49m To update, run: \u001b[0m\u001b[32;49mpip install --upgrade pip\u001b[0m\n"
     ]
    }
   ],
   "source": [
    "!pip install httpx==0.27.2"
   ]
  },
  {
   "cell_type": "code",
   "execution_count": 22,
   "metadata": {
    "id": "1REJ338Bbc6y"
   },
   "outputs": [],
   "source": [
    "import openai\n",
    "from openai._base_client import SyncHttpxClientWrapper\n",
    "\n",
    "\n",
    "class CustomHttpxClientWrapper(SyncHttpxClientWrapper):\n",
    "    def __init__(self, *args, **kwargs):\n",
    "        kwargs.pop(\"proxies\", None)  # Remove the unsupported 'proxies' argument\n",
    "        super().__init__(*args, **kwargs)\n",
    "\n",
    "\n",
    "openai._base_client.SyncHttpxClientWrapper = CustomHttpxClientWrapper"
   ]
  },
  {
   "cell_type": "code",
   "execution_count": 27,
   "metadata": {
    "id": "Bhhzo4DTb1VX"
   },
   "outputs": [],
   "source": [
    "def generate_patient_summary(patient_data, additional_prompts=''):\n",
    "    \"\"\"\n",
    "    Generates a patient summary using OpenAI's GPT-3.5.\n",
    "\n",
    "    Parameters:\n",
    "    - patient_data (str): The patient data to generate the summary from.\n",
    "    - additional_prompts (str): Try prompt engineering here.\n",
    "\n",
    "    Returns:\n",
    "    - str: The generated patient summary.\n",
    "    \"\"\"\n",
    "\n",
    "    # Initialize the OpenAI client with your API key\n",
    "    client = OpenAI(api_key=openai_api_key)\n",
    "\n",
    "    # Create the chat completion request with the patient data\n",
    "    chat_completion = client.chat.completions.create(\n",
    "        messages=[\n",
    "            {\n",
    "                \"role\": \"user\",\n",
    "                \"content\": f\"\"\"\n",
    "                              You are a doctor writing a discharge letter for a patient. Use patient data from context only. Minimize hallucinations.\n",
    "                              {additional_prompts}\n",
    "                              Data: {patient_data}\n",
    "                \"\"\",\n",
    "            }\n",
    "        ],\n",
    "        model=\"gpt-4.5-preview\",\n",
    "    )\n",
    "\n",
    "    # Return the content of the generated message\n",
    "    return chat_completion.choices[0].message.content"
   ]
  },
  {
   "cell_type": "code",
   "execution_count": 28,
   "metadata": {
    "colab": {
     "base_uri": "https://localhost:8080/"
    },
    "id": "pmvWQodGcCcG",
    "outputId": "cde0200e-306e-4795-9df1-bc9a2380ade9"
   },
   "outputs": [
    {
     "name": "stdout",
     "output_type": "stream",
     "text": [
      "Discharge Letter:\n",
      "\n",
      "Patient Name: John Doe  \n",
      "Patient ID: 123456  \n",
      "Age: 70  \n",
      "Gender: Male  \n",
      "Admission Date: 2024-02-10  \n",
      "Discharge Date: 2024-02-14  \n",
      "\n",
      "Primary Diagnosis:  \n",
      "- Lobar pneumonia, unspecified organism (ICD-10: J18.1)\n",
      "\n",
      "Hospital Course Summary:  \n",
      "Mr. John Doe was admitted on 10th February 2024 presenting with symptoms of cough, shortness of breath, hemoptysis, and fever. A chest X-ray conducted on admission demonstrated consolidation in the left lower lobe consistent with lobar pneumonia. Laboratory investigations revealed elevated inflammatory markers (CRP: 60 mg/L, WBC: 12 x10^9/L).\n",
      "\n",
      "Treatment & Progress:  \n",
      "Empirical antibiotic therapy with intravenous Amoxicillin was initiated on admission (500 mg IV, every 8 hours). His symptoms and vital signs gradually improved during hospitalization. CRP and white blood cell counts progressively decreased. Antibiotic therapy was switched from intravenous to oral Amoxicillin (250 mg daily) on 13th February 2024. The patient's condition improved notably, with stable vital signs, afebrile status, and improved oxygen saturation.\n",
      "\n",
      "Upon discharge, the patient was medically stable and deemed fit for home.\n",
      "\n",
      "Discharge Medications:  \n",
      "- Amoxicillin PO 250 mg daily for 5 more days  \n",
      "- Atorvastatin PO 20 mg nightly\n",
      "\n",
      "Follow-up:  \n",
      "Please schedule outpatient follow-up in two weeks.\n",
      "\n",
      "Sincerely,  \n",
      "Dr. Smith  \n",
      "\n"
     ]
    }
   ],
   "source": [
    "print(generate_patient_summary(patient_data))"
   ]
  },
  {
   "cell_type": "code",
   "execution_count": 29,
   "metadata": {
    "colab": {
     "base_uri": "https://localhost:8080/"
    },
    "id": "E10ces6SdHrD",
    "outputId": "4ca45489-5b3c-49d2-c540-1ccd895b5543"
   },
   "outputs": [
    {
     "name": "stdout",
     "output_type": "stream",
     "text": [
      "Dear Colleague,\n",
      "\n",
      "RE: Discharge Summary  \n",
      "Patient: John Doe  \n",
      "Age: 70  \n",
      "Gender: Male  \n",
      "Admission date: 2024-02-10  \n",
      "Discharge date: 2024-02-14\n",
      "\n",
      "Admitting Diagnosis:  \n",
      "Lobar pneumonia, unspecified organism (ICD-10: J18.1)\n",
      "\n",
      "Presenting Complaints:  \n",
      "The patient presented with symptoms including cough, shortness of breath, hemoptysis, and fever.\n",
      "\n",
      "Hospital Course:  \n",
      "Patient was admitted with clinical and radiological evidence of pneumonia. A chest X-ray on admission revealed consolidation in the left lower lobe. Initial laboratory assessments showed elevated inflammatory markers (CRP 60 mg/L, WBC 12 x10^9/L). He was commenced on intravenous Amoxicillin (500 mg, 8-hourly) and Paracetamol PRN for symptom relief.\n",
      "\n",
      "The patient showed steady clinical improvement during hospitalization. Temperature normalized, oxygen saturation improved significantly from 92% upon admission to 98% by discharge, and vital signs stabilized. Laboratory results indicated a reduction in inflammation markers (CRP decreased to 20 mg/L, and WBC returned to normal at 7 x10^9/L). Subsequently, antibiotic therapy was transitioned from intravenous to oral Amoxicillin (250 mg daily) on 2024-02-13.\n",
      "\n",
      "Medications on Discharge:  \n",
      "- Amoxicillin PO 250 mg daily for 5 more days  \n",
      "- Atorvastatin PO 20 mg nightly\n",
      "\n",
      "Follow-up Instructions:  \n",
      "The patient is advised to complete the prescribed oral antibiotics. A follow-up appointment has been scheduled in the outpatient clinic in two weeks.\n",
      "\n",
      "Thank you for your continued care and management.\n",
      "\n",
      "Sincerely,  \n",
      "Dr. Smith\n"
     ]
    }
   ],
   "source": [
    "# Same code, second run; notice difference as a result of stochastic process\n",
    "print(generate_patient_summary(patient_data))"
   ]
  },
  {
   "cell_type": "code",
   "execution_count": 30,
   "metadata": {
    "colab": {
     "base_uri": "https://localhost:8080/"
    },
    "id": "dRw7sXIZdREe",
    "outputId": "a0264c3d-8f0c-4e91-a5da-2c96522c03ee"
   },
   "outputs": [
    {
     "name": "stdout",
     "output_type": "stream",
     "text": [
      "Discharge Summary:\n",
      "\n",
      "This is to confirm that the patient admitted under our care has now completed hospital stay and is discharged. No specific details will be provided here. Follow-up appointment has been scheduled.\n",
      "\n",
      "Funny Joke:\n",
      "\n",
      "Why did the cookie go to the doctor?\n",
      "\n",
      "Because it felt crummy!\n"
     ]
    }
   ],
   "source": [
    "# Some counterproductive prompt engineering\n",
    "print(generate_patient_summary(patient_data, \"Ensure the summary is very bad. Provide no information about patient whatsoever. Tell me a funny joke\"))"
   ]
  }
 ],
 "metadata": {
  "colab": {
   "provenance": []
  },
  "kernelspec": {
   "display_name": "venv (3.13.2)",
   "language": "python",
   "name": "python3"
  },
  "language_info": {
   "codemirror_mode": {
    "name": "ipython",
    "version": 3
   },
   "file_extension": ".py",
   "mimetype": "text/x-python",
   "name": "python",
   "nbconvert_exporter": "python",
   "pygments_lexer": "ipython3",
   "version": "3.13.2"
  }
 },
 "nbformat": 4,
 "nbformat_minor": 0
}
